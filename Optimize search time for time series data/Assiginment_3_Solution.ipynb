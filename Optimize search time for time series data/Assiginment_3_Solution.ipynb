{
  "nbformat": 4,
  "nbformat_minor": 0,
  "metadata": {
    "colab": {
      "provenance": []
    },
    "kernelspec": {
      "name": "python3",
      "display_name": "Python 3"
    },
    "language_info": {
      "name": "python"
    }
  },
  "cells": [
    {
      "cell_type": "markdown",
      "source": [
        "## First method to find sum, mean, max and mean\n",
        "# Using Segment Tree"
      ],
      "metadata": {
        "id": "oh-cm-gLfqoP"
      }
    },
    {
      "cell_type": "code",
      "source": [
        "# Reading the data from given csv the pandas\n",
        "import pandas as pd\n",
        "dframe = pd.read_csv('Data required for the assignmnet.csv')\n",
        "dframe.head()"
      ],
      "metadata": {
        "id": "cZXzDtwu-GzM",
        "colab": {
          "base_uri": "https://localhost:8080/",
          "height": 206
        },
        "outputId": "d3cbc92f-bebf-4402-f47e-0a5fa7fa9452"
      },
      "execution_count": 1,
      "outputs": [
        {
          "output_type": "execute_result",
          "data": {
            "text/plain": [
              "    timestamp       Mumb    Chennai       Khar       Delh\n",
              "0  1360009758  57.536559  51.338224  40.172635  40.274136\n",
              "1  1360009579  51.432071  42.668862  52.881400  46.432223\n",
              "2  1360009535  43.755586  44.066454  49.656046  44.061495\n",
              "3  1360009618  48.483868  56.036239  44.631650  43.831369\n",
              "4  1360009677  41.952270  53.648003  41.611338  44.356289"
            ],
            "text/html": [
              "\n",
              "  <div id=\"df-97bf2125-0267-4ba9-9756-7453ffb29fbb\" class=\"colab-df-container\">\n",
              "    <div>\n",
              "<style scoped>\n",
              "    .dataframe tbody tr th:only-of-type {\n",
              "        vertical-align: middle;\n",
              "    }\n",
              "\n",
              "    .dataframe tbody tr th {\n",
              "        vertical-align: top;\n",
              "    }\n",
              "\n",
              "    .dataframe thead th {\n",
              "        text-align: right;\n",
              "    }\n",
              "</style>\n",
              "<table border=\"1\" class=\"dataframe\">\n",
              "  <thead>\n",
              "    <tr style=\"text-align: right;\">\n",
              "      <th></th>\n",
              "      <th>timestamp</th>\n",
              "      <th>Mumb</th>\n",
              "      <th>Chennai</th>\n",
              "      <th>Khar</th>\n",
              "      <th>Delh</th>\n",
              "    </tr>\n",
              "  </thead>\n",
              "  <tbody>\n",
              "    <tr>\n",
              "      <th>0</th>\n",
              "      <td>1360009758</td>\n",
              "      <td>57.536559</td>\n",
              "      <td>51.338224</td>\n",
              "      <td>40.172635</td>\n",
              "      <td>40.274136</td>\n",
              "    </tr>\n",
              "    <tr>\n",
              "      <th>1</th>\n",
              "      <td>1360009579</td>\n",
              "      <td>51.432071</td>\n",
              "      <td>42.668862</td>\n",
              "      <td>52.881400</td>\n",
              "      <td>46.432223</td>\n",
              "    </tr>\n",
              "    <tr>\n",
              "      <th>2</th>\n",
              "      <td>1360009535</td>\n",
              "      <td>43.755586</td>\n",
              "      <td>44.066454</td>\n",
              "      <td>49.656046</td>\n",
              "      <td>44.061495</td>\n",
              "    </tr>\n",
              "    <tr>\n",
              "      <th>3</th>\n",
              "      <td>1360009618</td>\n",
              "      <td>48.483868</td>\n",
              "      <td>56.036239</td>\n",
              "      <td>44.631650</td>\n",
              "      <td>43.831369</td>\n",
              "    </tr>\n",
              "    <tr>\n",
              "      <th>4</th>\n",
              "      <td>1360009677</td>\n",
              "      <td>41.952270</td>\n",
              "      <td>53.648003</td>\n",
              "      <td>41.611338</td>\n",
              "      <td>44.356289</td>\n",
              "    </tr>\n",
              "  </tbody>\n",
              "</table>\n",
              "</div>\n",
              "    <div class=\"colab-df-buttons\">\n",
              "\n",
              "  <div class=\"colab-df-container\">\n",
              "    <button class=\"colab-df-convert\" onclick=\"convertToInteractive('df-97bf2125-0267-4ba9-9756-7453ffb29fbb')\"\n",
              "            title=\"Convert this dataframe to an interactive table.\"\n",
              "            style=\"display:none;\">\n",
              "\n",
              "  <svg xmlns=\"http://www.w3.org/2000/svg\" height=\"24px\" viewBox=\"0 -960 960 960\">\n",
              "    <path d=\"M120-120v-720h720v720H120Zm60-500h600v-160H180v160Zm220 220h160v-160H400v160Zm0 220h160v-160H400v160ZM180-400h160v-160H180v160Zm440 0h160v-160H620v160ZM180-180h160v-160H180v160Zm440 0h160v-160H620v160Z\"/>\n",
              "  </svg>\n",
              "    </button>\n",
              "\n",
              "  <style>\n",
              "    .colab-df-container {\n",
              "      display:flex;\n",
              "      gap: 12px;\n",
              "    }\n",
              "\n",
              "    .colab-df-convert {\n",
              "      background-color: #E8F0FE;\n",
              "      border: none;\n",
              "      border-radius: 50%;\n",
              "      cursor: pointer;\n",
              "      display: none;\n",
              "      fill: #1967D2;\n",
              "      height: 32px;\n",
              "      padding: 0 0 0 0;\n",
              "      width: 32px;\n",
              "    }\n",
              "\n",
              "    .colab-df-convert:hover {\n",
              "      background-color: #E2EBFA;\n",
              "      box-shadow: 0px 1px 2px rgba(60, 64, 67, 0.3), 0px 1px 3px 1px rgba(60, 64, 67, 0.15);\n",
              "      fill: #174EA6;\n",
              "    }\n",
              "\n",
              "    .colab-df-buttons div {\n",
              "      margin-bottom: 4px;\n",
              "    }\n",
              "\n",
              "    [theme=dark] .colab-df-convert {\n",
              "      background-color: #3B4455;\n",
              "      fill: #D2E3FC;\n",
              "    }\n",
              "\n",
              "    [theme=dark] .colab-df-convert:hover {\n",
              "      background-color: #434B5C;\n",
              "      box-shadow: 0px 1px 3px 1px rgba(0, 0, 0, 0.15);\n",
              "      filter: drop-shadow(0px 1px 2px rgba(0, 0, 0, 0.3));\n",
              "      fill: #FFFFFF;\n",
              "    }\n",
              "  </style>\n",
              "\n",
              "    <script>\n",
              "      const buttonEl =\n",
              "        document.querySelector('#df-97bf2125-0267-4ba9-9756-7453ffb29fbb button.colab-df-convert');\n",
              "      buttonEl.style.display =\n",
              "        google.colab.kernel.accessAllowed ? 'block' : 'none';\n",
              "\n",
              "      async function convertToInteractive(key) {\n",
              "        const element = document.querySelector('#df-97bf2125-0267-4ba9-9756-7453ffb29fbb');\n",
              "        const dataTable =\n",
              "          await google.colab.kernel.invokeFunction('convertToInteractive',\n",
              "                                                    [key], {});\n",
              "        if (!dataTable) return;\n",
              "\n",
              "        const docLinkHtml = 'Like what you see? Visit the ' +\n",
              "          '<a target=\"_blank\" href=https://colab.research.google.com/notebooks/data_table.ipynb>data table notebook</a>'\n",
              "          + ' to learn more about interactive tables.';\n",
              "        element.innerHTML = '';\n",
              "        dataTable['output_type'] = 'display_data';\n",
              "        await google.colab.output.renderOutput(dataTable, element);\n",
              "        const docLink = document.createElement('div');\n",
              "        docLink.innerHTML = docLinkHtml;\n",
              "        element.appendChild(docLink);\n",
              "      }\n",
              "    </script>\n",
              "  </div>\n",
              "\n",
              "\n",
              "<div id=\"df-d88458e6-0855-4405-8b41-54c6f3c78c77\">\n",
              "  <button class=\"colab-df-quickchart\" onclick=\"quickchart('df-d88458e6-0855-4405-8b41-54c6f3c78c77')\"\n",
              "            title=\"Suggest charts\"\n",
              "            style=\"display:none;\">\n",
              "\n",
              "<svg xmlns=\"http://www.w3.org/2000/svg\" height=\"24px\"viewBox=\"0 0 24 24\"\n",
              "     width=\"24px\">\n",
              "    <g>\n",
              "        <path d=\"M19 3H5c-1.1 0-2 .9-2 2v14c0 1.1.9 2 2 2h14c1.1 0 2-.9 2-2V5c0-1.1-.9-2-2-2zM9 17H7v-7h2v7zm4 0h-2V7h2v10zm4 0h-2v-4h2v4z\"/>\n",
              "    </g>\n",
              "</svg>\n",
              "  </button>\n",
              "\n",
              "<style>\n",
              "  .colab-df-quickchart {\n",
              "      --bg-color: #E8F0FE;\n",
              "      --fill-color: #1967D2;\n",
              "      --hover-bg-color: #E2EBFA;\n",
              "      --hover-fill-color: #174EA6;\n",
              "      --disabled-fill-color: #AAA;\n",
              "      --disabled-bg-color: #DDD;\n",
              "  }\n",
              "\n",
              "  [theme=dark] .colab-df-quickchart {\n",
              "      --bg-color: #3B4455;\n",
              "      --fill-color: #D2E3FC;\n",
              "      --hover-bg-color: #434B5C;\n",
              "      --hover-fill-color: #FFFFFF;\n",
              "      --disabled-bg-color: #3B4455;\n",
              "      --disabled-fill-color: #666;\n",
              "  }\n",
              "\n",
              "  .colab-df-quickchart {\n",
              "    background-color: var(--bg-color);\n",
              "    border: none;\n",
              "    border-radius: 50%;\n",
              "    cursor: pointer;\n",
              "    display: none;\n",
              "    fill: var(--fill-color);\n",
              "    height: 32px;\n",
              "    padding: 0;\n",
              "    width: 32px;\n",
              "  }\n",
              "\n",
              "  .colab-df-quickchart:hover {\n",
              "    background-color: var(--hover-bg-color);\n",
              "    box-shadow: 0 1px 2px rgba(60, 64, 67, 0.3), 0 1px 3px 1px rgba(60, 64, 67, 0.15);\n",
              "    fill: var(--button-hover-fill-color);\n",
              "  }\n",
              "\n",
              "  .colab-df-quickchart-complete:disabled,\n",
              "  .colab-df-quickchart-complete:disabled:hover {\n",
              "    background-color: var(--disabled-bg-color);\n",
              "    fill: var(--disabled-fill-color);\n",
              "    box-shadow: none;\n",
              "  }\n",
              "\n",
              "  .colab-df-spinner {\n",
              "    border: 2px solid var(--fill-color);\n",
              "    border-color: transparent;\n",
              "    border-bottom-color: var(--fill-color);\n",
              "    animation:\n",
              "      spin 1s steps(1) infinite;\n",
              "  }\n",
              "\n",
              "  @keyframes spin {\n",
              "    0% {\n",
              "      border-color: transparent;\n",
              "      border-bottom-color: var(--fill-color);\n",
              "      border-left-color: var(--fill-color);\n",
              "    }\n",
              "    20% {\n",
              "      border-color: transparent;\n",
              "      border-left-color: var(--fill-color);\n",
              "      border-top-color: var(--fill-color);\n",
              "    }\n",
              "    30% {\n",
              "      border-color: transparent;\n",
              "      border-left-color: var(--fill-color);\n",
              "      border-top-color: var(--fill-color);\n",
              "      border-right-color: var(--fill-color);\n",
              "    }\n",
              "    40% {\n",
              "      border-color: transparent;\n",
              "      border-right-color: var(--fill-color);\n",
              "      border-top-color: var(--fill-color);\n",
              "    }\n",
              "    60% {\n",
              "      border-color: transparent;\n",
              "      border-right-color: var(--fill-color);\n",
              "    }\n",
              "    80% {\n",
              "      border-color: transparent;\n",
              "      border-right-color: var(--fill-color);\n",
              "      border-bottom-color: var(--fill-color);\n",
              "    }\n",
              "    90% {\n",
              "      border-color: transparent;\n",
              "      border-bottom-color: var(--fill-color);\n",
              "    }\n",
              "  }\n",
              "</style>\n",
              "\n",
              "  <script>\n",
              "    async function quickchart(key) {\n",
              "      const quickchartButtonEl =\n",
              "        document.querySelector('#' + key + ' button');\n",
              "      quickchartButtonEl.disabled = true;  // To prevent multiple clicks.\n",
              "      quickchartButtonEl.classList.add('colab-df-spinner');\n",
              "      try {\n",
              "        const charts = await google.colab.kernel.invokeFunction(\n",
              "            'suggestCharts', [key], {});\n",
              "      } catch (error) {\n",
              "        console.error('Error during call to suggestCharts:', error);\n",
              "      }\n",
              "      quickchartButtonEl.classList.remove('colab-df-spinner');\n",
              "      quickchartButtonEl.classList.add('colab-df-quickchart-complete');\n",
              "    }\n",
              "    (() => {\n",
              "      let quickchartButtonEl =\n",
              "        document.querySelector('#df-d88458e6-0855-4405-8b41-54c6f3c78c77 button');\n",
              "      quickchartButtonEl.style.display =\n",
              "        google.colab.kernel.accessAllowed ? 'block' : 'none';\n",
              "    })();\n",
              "  </script>\n",
              "</div>\n",
              "\n",
              "    </div>\n",
              "  </div>\n"
            ],
            "application/vnd.google.colaboratory.intrinsic+json": {
              "type": "dataframe",
              "variable_name": "dframe",
              "summary": "{\n  \"name\": \"dframe\",\n  \"rows\": 14999,\n  \"fields\": [\n    {\n      \"column\": \"timestamp\",\n      \"properties\": {\n        \"dtype\": \"number\",\n        \"std\": 86,\n        \"min\": 1360009471,\n        \"max\": 1360009771,\n        \"num_unique_values\": 301,\n        \"samples\": [\n          1360009493,\n          1360009479,\n          1360009584\n        ],\n        \"semantic_type\": \"\",\n        \"description\": \"\"\n      }\n    },\n    {\n      \"column\": \"Mumb\",\n      \"properties\": {\n        \"dtype\": \"number\",\n        \"std\": 5.772265691074015,\n        \"min\": 40.11325539776187,\n        \"max\": 60.54538182752005,\n        \"num_unique_values\": 14998,\n        \"samples\": [\n          56.33955136564009,\n          48.46343160017749,\n          47.7730651482393\n        ],\n        \"semantic_type\": \"\",\n        \"description\": \"\"\n      }\n    },\n    {\n      \"column\": \"Chennai\",\n      \"properties\": {\n        \"dtype\": \"number\",\n        \"std\": 5.792633349831719,\n        \"min\": 40.1295211054004,\n        \"max\": 60.55079586100805,\n        \"num_unique_values\": 14984,\n        \"samples\": [\n          45.50753283890953,\n          42.33786539183449,\n          52.7839556507309\n        ],\n        \"semantic_type\": \"\",\n        \"description\": \"\"\n      }\n    },\n    {\n      \"column\": \"Khar\",\n      \"properties\": {\n        \"dtype\": \"number\",\n        \"std\": 5.7622452396633435,\n        \"min\": 40.11157199106936,\n        \"max\": 60.565757099834855,\n        \"num_unique_values\": 14991,\n        \"samples\": [\n          46.89187063763962,\n          54.15608361075148,\n          50.12498333560336\n        ],\n        \"semantic_type\": \"\",\n        \"description\": \"\"\n      }\n    },\n    {\n      \"column\": \"Delh\",\n      \"properties\": {\n        \"dtype\": \"number\",\n        \"std\": 5.816211061390637,\n        \"min\": 40.11912931298677,\n        \"max\": 60.60195771946078,\n        \"num_unique_values\": 14993,\n        \"samples\": [\n          43.29868905351437,\n          40.56376790777564,\n          54.06649529823285\n        ],\n        \"semantic_type\": \"\",\n        \"description\": \"\"\n      }\n    }\n  ]\n}"
            }
          },
          "metadata": {},
          "execution_count": 1
        }
      ]
    },
    {
      "cell_type": "code",
      "source": [
        "# Checking for presence of missing values\n",
        "dframe.isna().sum()"
      ],
      "metadata": {
        "colab": {
          "base_uri": "https://localhost:8080/",
          "height": 241
        },
        "id": "ukyQUhBL_ZJI",
        "outputId": "ea9bbbde-4a8a-46f7-d510-38bb09b90a96"
      },
      "execution_count": 2,
      "outputs": [
        {
          "output_type": "execute_result",
          "data": {
            "text/plain": [
              "timestamp     0\n",
              "Mumb          1\n",
              "Chennai      15\n",
              "Khar          8\n",
              "Delh          6\n",
              "dtype: int64"
            ],
            "text/html": [
              "<div>\n",
              "<style scoped>\n",
              "    .dataframe tbody tr th:only-of-type {\n",
              "        vertical-align: middle;\n",
              "    }\n",
              "\n",
              "    .dataframe tbody tr th {\n",
              "        vertical-align: top;\n",
              "    }\n",
              "\n",
              "    .dataframe thead th {\n",
              "        text-align: right;\n",
              "    }\n",
              "</style>\n",
              "<table border=\"1\" class=\"dataframe\">\n",
              "  <thead>\n",
              "    <tr style=\"text-align: right;\">\n",
              "      <th></th>\n",
              "      <th>0</th>\n",
              "    </tr>\n",
              "  </thead>\n",
              "  <tbody>\n",
              "    <tr>\n",
              "      <th>timestamp</th>\n",
              "      <td>0</td>\n",
              "    </tr>\n",
              "    <tr>\n",
              "      <th>Mumb</th>\n",
              "      <td>1</td>\n",
              "    </tr>\n",
              "    <tr>\n",
              "      <th>Chennai</th>\n",
              "      <td>15</td>\n",
              "    </tr>\n",
              "    <tr>\n",
              "      <th>Khar</th>\n",
              "      <td>8</td>\n",
              "    </tr>\n",
              "    <tr>\n",
              "      <th>Delh</th>\n",
              "      <td>6</td>\n",
              "    </tr>\n",
              "  </tbody>\n",
              "</table>\n",
              "</div><br><label><b>dtype:</b> int64</label>"
            ]
          },
          "metadata": {},
          "execution_count": 2
        }
      ]
    },
    {
      "cell_type": "code",
      "source": [
        "# Imputing the missing values with mean\n",
        "dframe.fillna(dframe.mean(), inplace=True)\n",
        "\n",
        "# Storing the data after imputation\n",
        "dframe.to_csv('imputed_data.csv', index=False)"
      ],
      "metadata": {
        "id": "c7Ad6oilTSS8"
      },
      "execution_count": 3,
      "outputs": []
    },
    {
      "cell_type": "code",
      "source": [
        "# Checking for duplicate timestamps\n",
        "dframe['timestamp'].duplicated().sum()"
      ],
      "metadata": {
        "colab": {
          "base_uri": "https://localhost:8080/"
        },
        "id": "sKk-LRVX_fxM",
        "outputId": "9e037b38-d832-4467-e872-53a12774f46e"
      },
      "execution_count": 4,
      "outputs": [
        {
          "output_type": "execute_result",
          "data": {
            "text/plain": [
              "14698"
            ]
          },
          "metadata": {},
          "execution_count": 4
        }
      ]
    },
    {
      "cell_type": "code",
      "source": [
        "# Storing the name of all cities\n",
        "cities = dframe.columns[1:].to_list()\n",
        "print(cities)"
      ],
      "metadata": {
        "colab": {
          "base_uri": "https://localhost:8080/"
        },
        "id": "DdSMFf-GPIU_",
        "outputId": "a2482c1c-815e-42b9-dfb1-865761a989e1"
      },
      "execution_count": 5,
      "outputs": [
        {
          "output_type": "stream",
          "name": "stdout",
          "text": [
            "['Mumb', 'Chennai', 'Khar', 'Delh']\n"
          ]
        }
      ]
    },
    {
      "cell_type": "code",
      "source": [
        "#Checking the type of all values in the dataset\n",
        "dframe.info()"
      ],
      "metadata": {
        "colab": {
          "base_uri": "https://localhost:8080/"
        },
        "id": "q53bAk0gPgiy",
        "outputId": "264397ac-2b15-47d5-b3bb-24bb83a0535a"
      },
      "execution_count": 6,
      "outputs": [
        {
          "output_type": "stream",
          "name": "stdout",
          "text": [
            "<class 'pandas.core.frame.DataFrame'>\n",
            "RangeIndex: 14999 entries, 0 to 14998\n",
            "Data columns (total 5 columns):\n",
            " #   Column     Non-Null Count  Dtype  \n",
            "---  ------     --------------  -----  \n",
            " 0   timestamp  14999 non-null  int64  \n",
            " 1   Mumb       14999 non-null  float64\n",
            " 2   Chennai    14999 non-null  float64\n",
            " 3   Khar       14999 non-null  float64\n",
            " 4   Delh       14999 non-null  float64\n",
            "dtypes: float64(4), int64(1)\n",
            "memory usage: 586.0 KB\n"
          ]
        }
      ]
    },
    {
      "cell_type": "code",
      "source": [
        "# Variable to store the minimum and maximum timestamps\n",
        "min_time_stamp = dframe['timestamp'][0]\n",
        "max_time_stamp = dframe['timestamp'][0]\n",
        "\n",
        "# Creating the time_stamps to store the combined values of duplicated timestamps\n",
        "time_stamps = {}\n",
        "\n",
        "for row in range(dframe.shape[0]):\n",
        "  cur_time_stamp = dframe.loc[row, 'timestamp']\n",
        "  min_time_stamp = min(min_time_stamp, cur_time_stamp)\n",
        "  max_time_stamp = max(max_time_stamp, cur_time_stamp)\n",
        "  if cur_time_stamp not in time_stamps:\n",
        "    time_stamps[cur_time_stamp] = {'count': 1}  # Count is used to calculate the mean\n",
        "    for city in cities:\n",
        "      time_stamps[cur_time_stamp][city] = {}\n",
        "      time_stamps[cur_time_stamp][city]['min'] = dframe.loc[row, city]     # Min stores the min of all duplicated timestamps\n",
        "      time_stamps[cur_time_stamp][city]['max'] = dframe.loc[row, city]     # Max stores the max of all duplicated timestamps\n",
        "      time_stamps[cur_time_stamp][city]['sum'] = dframe.loc[row, city]     # Sum stores the sum of all duplicated timestamps\n",
        "  else:\n",
        "    time_stamps[cur_time_stamp]['count'] += 1\n",
        "    for city in cities:\n",
        "      time_stamps[cur_time_stamp][city]['min'] = min(time_stamps[cur_time_stamp][city]['min'], dframe.loc[row, city])\n",
        "      time_stamps[cur_time_stamp][city]['max'] = max(time_stamps[cur_time_stamp][city]['max'], dframe.loc[row, city])\n",
        "      time_stamps[cur_time_stamp][city]['sum'] += dframe.loc[row, city]\n"
      ],
      "metadata": {
        "id": "JH0j-L_uQTgd"
      },
      "execution_count": 7,
      "outputs": []
    },
    {
      "cell_type": "code",
      "source": [
        "# Segement tree implementation with array\n",
        "class Segment_Tree:\n",
        "  def __init__(self, first_timestamp, last_timestamp, time_stamps, length, cities):\n",
        "    self.time_stamps = time_stamps\n",
        "    self.first_timestamp = first_timestamp\n",
        "    self.last_timestamp = last_timestamp\n",
        "    self.cities = cities\n",
        "    self.tree_arr = [{}] * (4 * length)\n",
        "    self.build_tree(0, first_timestamp, last_timestamp)\n",
        "\n",
        "  # Function to combine the node stats from left and right sub tree\n",
        "  def combine_node(self, left_node, right_node):\n",
        "    if left_node == {}:\n",
        "      return right_node\n",
        "    elif right_node == {}:\n",
        "      return left_node\n",
        "\n",
        "    cur_node = {}\n",
        "    for city in self.cities:\n",
        "        cur_node[city] = {}\n",
        "        cur_node[city]['min'] = min(left_node[city]['min'], right_node[city]['min'])\n",
        "        cur_node[city]['max'] = max(left_node[city]['max'], right_node[city]['max'])\n",
        "        cur_node[city]['sum'] = left_node[city]['sum'] + right_node[city]['sum']\n",
        "    cur_node['count'] = left_node['count'] + right_node['count']\n",
        "    return cur_node\n",
        "\n",
        "  #Function to build the segment tree\n",
        "  def build_tree(self, ind, start_timestamp, end_timestamp):\n",
        "    if start_timestamp == end_timestamp:                        # If the leaf node is reached, the value of specific time stamp is stored.\n",
        "      self.tree_arr[ind] = self.time_stamps[start_timestamp]\n",
        "      return self.tree_arr[ind]\n",
        "\n",
        "    mid = (start_timestamp + end_timestamp) // 2\n",
        "    left = 2 * ind + 1\n",
        "    right = 2 * ind + 2\n",
        "    left_node = self.build_tree(left, start_timestamp, mid)     # Building the left subtree\n",
        "    right_node = self.build_tree(right, mid+1, end_timestamp)   # Building the right subtree\n",
        "    self.tree_arr[ind] = self.combine_node(left_node, right_node)   # Combining the left and right subtree nodes while backtracking, to get stats of range of nodes\n",
        "    return self.tree_arr[ind]\n",
        "\n",
        "  #Function to query the segment tree\n",
        "  def query(self, start_timestamp, end_timestamp, ind, node_left , node_right):\n",
        "    if start_timestamp > node_right or end_timestamp < node_left:            # If timestamps dont lie within stored intervals\n",
        "      return {}\n",
        "    elif start_timestamp <= node_left and end_timestamp >= node_right:       # If the current node contain the entire timestamp\n",
        "      return self.tree_arr[ind]\n",
        "    else:                                                                    # If the above both cond fails, get stats from left and right subtree\n",
        "      mid = (node_left + node_right) // 2\n",
        "      left = 2 * ind + 1\n",
        "      right = 2 * ind + 2\n",
        "      left_node = self.query(start_timestamp, end_timestamp, left, node_left, mid)\n",
        "      right_node = self.query(start_timestamp, end_timestamp, right, mid + 1, node_right)\n",
        "      return self.combine_node(left_node, right_node)\n",
        "\n",
        "  # Function to get required stat: sum, mean, min, max from segment tree\n",
        "  def get_stats(self, start_timestamp, end_timestamp, city):\n",
        "    node = self.query(start_timestamp, end_timestamp, 0, self.first_timestamp, self.last_timestamp)\n",
        "\n",
        "    if node == {}:\n",
        "      print(\"No data found\")\n",
        "      return\n",
        "\n",
        "    sum = node[city]['sum']\n",
        "    mean = sum / node['count']\n",
        "    min = node[city]['min']\n",
        "    max = node[city]['max']\n",
        "    print(f\"The sum in interval {start_timestamp} and {end_timestamp} of {city} is {sum:.2f}\")\n",
        "    print(f\"The mean in interval {start_timestamp} and {end_timestamp} of {city} is {mean:.2f}\")\n",
        "    print(f\"The min in interval {start_timestamp} and {end_timestamp} of {city} is {min:.4f}\")\n",
        "    print(f\"The max in interval {start_timestamp} and {end_timestamp} of {city} is {max:.4f}\")\n",
        "\n"
      ],
      "metadata": {
        "id": "RgJxjUuqBeEe"
      },
      "execution_count": 8,
      "outputs": []
    },
    {
      "cell_type": "code",
      "source": [
        "length = max_time_stamp - min_time_stamp + 1\n",
        "seg_tree_instance = Segment_Tree(min_time_stamp, max_time_stamp, time_stamps, length, cities)"
      ],
      "metadata": {
        "id": "hqvtEt2tysn2"
      },
      "execution_count": 9,
      "outputs": []
    },
    {
      "cell_type": "code",
      "source": [
        "seg_tree_instance.get_stats(1360009471, 1360009471, 'Mumb')"
      ],
      "metadata": {
        "colab": {
          "base_uri": "https://localhost:8080/"
        },
        "id": "SXHmEx8r_C3O",
        "outputId": "e1509cfa-b27c-467a-ecc0-b927953840a2"
      },
      "execution_count": 10,
      "outputs": [
        {
          "output_type": "stream",
          "name": "stdout",
          "text": [
            "The sum in interval 1360009471 and 1360009471 of Mumb is 1193.44\n",
            "The mean in interval 1360009471 and 1360009471 of Mumb is 49.73\n",
            "The min in interval 1360009471 and 1360009471 of Mumb is 42.2733\n",
            "The max in interval 1360009471 and 1360009471 of Mumb is 60.3637\n"
          ]
        }
      ]
    },
    {
      "cell_type": "code",
      "source": [
        "seg_tree_instance.get_stats(1360009475, 1360009477, 'Mumb')"
      ],
      "metadata": {
        "colab": {
          "base_uri": "https://localhost:8080/"
        },
        "id": "wNV0g2wiW1Tl",
        "outputId": "c5eb995f-d715-4820-bce4-ce2817eefc51"
      },
      "execution_count": 11,
      "outputs": [
        {
          "output_type": "stream",
          "name": "stdout",
          "text": [
            "The sum in interval 1360009475 and 1360009477 of Mumb is 7590.71\n",
            "The mean in interval 1360009475 and 1360009477 of Mumb is 50.60\n",
            "The min in interval 1360009475 and 1360009477 of Mumb is 40.5473\n",
            "The max in interval 1360009475 and 1360009477 of Mumb is 60.4673\n"
          ]
        }
      ]
    },
    {
      "cell_type": "code",
      "source": [
        "seg_tree_instance.get_stats(1360009481, 1360009491, 'Khar')"
      ],
      "metadata": {
        "colab": {
          "base_uri": "https://localhost:8080/"
        },
        "id": "Hk7CNclcaX1Q",
        "outputId": "6d53f79e-61fa-404e-e4ec-ae7d1f6c42c1"
      },
      "execution_count": 12,
      "outputs": [
        {
          "output_type": "stream",
          "name": "stdout",
          "text": [
            "The sum in interval 1360009481 and 1360009491 of Khar is 27783.40\n",
            "The mean in interval 1360009481 and 1360009491 of Khar is 50.52\n",
            "The min in interval 1360009481 and 1360009491 of Khar is 40.5739\n",
            "The max in interval 1360009481 and 1360009491 of Khar is 60.4972\n"
          ]
        }
      ]
    },
    {
      "cell_type": "code",
      "source": [
        "seg_tree_instance.get_stats(1360009471, 1360009771, 'Delh')"
      ],
      "metadata": {
        "colab": {
          "base_uri": "https://localhost:8080/"
        },
        "id": "Mh-4H9CjrINS",
        "outputId": "6df9d6ca-35ca-4425-e385-b56ce55dc1a0"
      },
      "execution_count": 13,
      "outputs": [
        {
          "output_type": "stream",
          "name": "stdout",
          "text": [
            "The sum in interval 1360009471 and 1360009771 of Delh is 753593.06\n",
            "The mean in interval 1360009471 and 1360009771 of Delh is 50.24\n",
            "The min in interval 1360009471 and 1360009771 of Delh is 40.1191\n",
            "The max in interval 1360009471 and 1360009771 of Delh is 60.6020\n"
          ]
        }
      ]
    },
    {
      "cell_type": "markdown",
      "source": [
        "## First Method above can query all sum, mean, max and min in O(log n) using segment tree\n",
        "## ------------------------------------------------------ End of Assignment ---------------------------------------------------------------\n"
      ],
      "metadata": {
        "id": "U8noZm-pjIO4"
      }
    },
    {
      "cell_type": "markdown",
      "source": [
        "## Second Method below queries sum and mean in time complexity of O(1) using prefix sum"
      ],
      "metadata": {
        "id": "uwtYK0UxjU1o"
      }
    },
    {
      "cell_type": "markdown",
      "source": [],
      "metadata": {
        "id": "qgxnPe4lCz3l"
      }
    },
    {
      "cell_type": "code",
      "source": [
        "dframe['timestamp'].unique().shape"
      ],
      "metadata": {
        "colab": {
          "base_uri": "https://localhost:8080/"
        },
        "id": "CssWbppiC0rz",
        "outputId": "038b119b-d4e5-4faf-b461-f0b301227c31"
      },
      "execution_count": 14,
      "outputs": [
        {
          "output_type": "execute_result",
          "data": {
            "text/plain": [
              "(301,)"
            ]
          },
          "metadata": {},
          "execution_count": 14
        }
      ]
    },
    {
      "cell_type": "code",
      "source": [
        "#Sort the rows according to time stamp and reset index\n",
        "dframe2 = dframe.sort_values(by=['timestamp'])\n",
        "dframe2 = dframe2.reset_index(drop=True)\n",
        "dframe2.head()\n"
      ],
      "metadata": {
        "colab": {
          "base_uri": "https://localhost:8080/",
          "height": 206
        },
        "id": "e13EVo5BC3Su",
        "outputId": "cffe6e24-c3bf-4dcd-80e4-952decc40f9a"
      },
      "execution_count": 15,
      "outputs": [
        {
          "output_type": "execute_result",
          "data": {
            "text/plain": [
              "    timestamp       Mumb    Chennai       Khar       Delh\n",
              "0  1360009471  44.212887  43.727827  41.208346  55.174262\n",
              "1  1360009471  46.662031  57.391402  40.694280  50.951203\n",
              "2  1360009471  54.259282  45.678202  55.419766  46.414326\n",
              "3  1360009471  53.271850  41.807774  50.255977  42.110217\n",
              "4  1360009471  51.889060  43.480799  56.232718  56.036354"
            ],
            "text/html": [
              "\n",
              "  <div id=\"df-910efb6e-e8b8-48ca-aaad-e0e3aeb949d3\" class=\"colab-df-container\">\n",
              "    <div>\n",
              "<style scoped>\n",
              "    .dataframe tbody tr th:only-of-type {\n",
              "        vertical-align: middle;\n",
              "    }\n",
              "\n",
              "    .dataframe tbody tr th {\n",
              "        vertical-align: top;\n",
              "    }\n",
              "\n",
              "    .dataframe thead th {\n",
              "        text-align: right;\n",
              "    }\n",
              "</style>\n",
              "<table border=\"1\" class=\"dataframe\">\n",
              "  <thead>\n",
              "    <tr style=\"text-align: right;\">\n",
              "      <th></th>\n",
              "      <th>timestamp</th>\n",
              "      <th>Mumb</th>\n",
              "      <th>Chennai</th>\n",
              "      <th>Khar</th>\n",
              "      <th>Delh</th>\n",
              "    </tr>\n",
              "  </thead>\n",
              "  <tbody>\n",
              "    <tr>\n",
              "      <th>0</th>\n",
              "      <td>1360009471</td>\n",
              "      <td>44.212887</td>\n",
              "      <td>43.727827</td>\n",
              "      <td>41.208346</td>\n",
              "      <td>55.174262</td>\n",
              "    </tr>\n",
              "    <tr>\n",
              "      <th>1</th>\n",
              "      <td>1360009471</td>\n",
              "      <td>46.662031</td>\n",
              "      <td>57.391402</td>\n",
              "      <td>40.694280</td>\n",
              "      <td>50.951203</td>\n",
              "    </tr>\n",
              "    <tr>\n",
              "      <th>2</th>\n",
              "      <td>1360009471</td>\n",
              "      <td>54.259282</td>\n",
              "      <td>45.678202</td>\n",
              "      <td>55.419766</td>\n",
              "      <td>46.414326</td>\n",
              "    </tr>\n",
              "    <tr>\n",
              "      <th>3</th>\n",
              "      <td>1360009471</td>\n",
              "      <td>53.271850</td>\n",
              "      <td>41.807774</td>\n",
              "      <td>50.255977</td>\n",
              "      <td>42.110217</td>\n",
              "    </tr>\n",
              "    <tr>\n",
              "      <th>4</th>\n",
              "      <td>1360009471</td>\n",
              "      <td>51.889060</td>\n",
              "      <td>43.480799</td>\n",
              "      <td>56.232718</td>\n",
              "      <td>56.036354</td>\n",
              "    </tr>\n",
              "  </tbody>\n",
              "</table>\n",
              "</div>\n",
              "    <div class=\"colab-df-buttons\">\n",
              "\n",
              "  <div class=\"colab-df-container\">\n",
              "    <button class=\"colab-df-convert\" onclick=\"convertToInteractive('df-910efb6e-e8b8-48ca-aaad-e0e3aeb949d3')\"\n",
              "            title=\"Convert this dataframe to an interactive table.\"\n",
              "            style=\"display:none;\">\n",
              "\n",
              "  <svg xmlns=\"http://www.w3.org/2000/svg\" height=\"24px\" viewBox=\"0 -960 960 960\">\n",
              "    <path d=\"M120-120v-720h720v720H120Zm60-500h600v-160H180v160Zm220 220h160v-160H400v160Zm0 220h160v-160H400v160ZM180-400h160v-160H180v160Zm440 0h160v-160H620v160ZM180-180h160v-160H180v160Zm440 0h160v-160H620v160Z\"/>\n",
              "  </svg>\n",
              "    </button>\n",
              "\n",
              "  <style>\n",
              "    .colab-df-container {\n",
              "      display:flex;\n",
              "      gap: 12px;\n",
              "    }\n",
              "\n",
              "    .colab-df-convert {\n",
              "      background-color: #E8F0FE;\n",
              "      border: none;\n",
              "      border-radius: 50%;\n",
              "      cursor: pointer;\n",
              "      display: none;\n",
              "      fill: #1967D2;\n",
              "      height: 32px;\n",
              "      padding: 0 0 0 0;\n",
              "      width: 32px;\n",
              "    }\n",
              "\n",
              "    .colab-df-convert:hover {\n",
              "      background-color: #E2EBFA;\n",
              "      box-shadow: 0px 1px 2px rgba(60, 64, 67, 0.3), 0px 1px 3px 1px rgba(60, 64, 67, 0.15);\n",
              "      fill: #174EA6;\n",
              "    }\n",
              "\n",
              "    .colab-df-buttons div {\n",
              "      margin-bottom: 4px;\n",
              "    }\n",
              "\n",
              "    [theme=dark] .colab-df-convert {\n",
              "      background-color: #3B4455;\n",
              "      fill: #D2E3FC;\n",
              "    }\n",
              "\n",
              "    [theme=dark] .colab-df-convert:hover {\n",
              "      background-color: #434B5C;\n",
              "      box-shadow: 0px 1px 3px 1px rgba(0, 0, 0, 0.15);\n",
              "      filter: drop-shadow(0px 1px 2px rgba(0, 0, 0, 0.3));\n",
              "      fill: #FFFFFF;\n",
              "    }\n",
              "  </style>\n",
              "\n",
              "    <script>\n",
              "      const buttonEl =\n",
              "        document.querySelector('#df-910efb6e-e8b8-48ca-aaad-e0e3aeb949d3 button.colab-df-convert');\n",
              "      buttonEl.style.display =\n",
              "        google.colab.kernel.accessAllowed ? 'block' : 'none';\n",
              "\n",
              "      async function convertToInteractive(key) {\n",
              "        const element = document.querySelector('#df-910efb6e-e8b8-48ca-aaad-e0e3aeb949d3');\n",
              "        const dataTable =\n",
              "          await google.colab.kernel.invokeFunction('convertToInteractive',\n",
              "                                                    [key], {});\n",
              "        if (!dataTable) return;\n",
              "\n",
              "        const docLinkHtml = 'Like what you see? Visit the ' +\n",
              "          '<a target=\"_blank\" href=https://colab.research.google.com/notebooks/data_table.ipynb>data table notebook</a>'\n",
              "          + ' to learn more about interactive tables.';\n",
              "        element.innerHTML = '';\n",
              "        dataTable['output_type'] = 'display_data';\n",
              "        await google.colab.output.renderOutput(dataTable, element);\n",
              "        const docLink = document.createElement('div');\n",
              "        docLink.innerHTML = docLinkHtml;\n",
              "        element.appendChild(docLink);\n",
              "      }\n",
              "    </script>\n",
              "  </div>\n",
              "\n",
              "\n",
              "<div id=\"df-824904fb-2a17-46a4-8075-edc03da9eecd\">\n",
              "  <button class=\"colab-df-quickchart\" onclick=\"quickchart('df-824904fb-2a17-46a4-8075-edc03da9eecd')\"\n",
              "            title=\"Suggest charts\"\n",
              "            style=\"display:none;\">\n",
              "\n",
              "<svg xmlns=\"http://www.w3.org/2000/svg\" height=\"24px\"viewBox=\"0 0 24 24\"\n",
              "     width=\"24px\">\n",
              "    <g>\n",
              "        <path d=\"M19 3H5c-1.1 0-2 .9-2 2v14c0 1.1.9 2 2 2h14c1.1 0 2-.9 2-2V5c0-1.1-.9-2-2-2zM9 17H7v-7h2v7zm4 0h-2V7h2v10zm4 0h-2v-4h2v4z\"/>\n",
              "    </g>\n",
              "</svg>\n",
              "  </button>\n",
              "\n",
              "<style>\n",
              "  .colab-df-quickchart {\n",
              "      --bg-color: #E8F0FE;\n",
              "      --fill-color: #1967D2;\n",
              "      --hover-bg-color: #E2EBFA;\n",
              "      --hover-fill-color: #174EA6;\n",
              "      --disabled-fill-color: #AAA;\n",
              "      --disabled-bg-color: #DDD;\n",
              "  }\n",
              "\n",
              "  [theme=dark] .colab-df-quickchart {\n",
              "      --bg-color: #3B4455;\n",
              "      --fill-color: #D2E3FC;\n",
              "      --hover-bg-color: #434B5C;\n",
              "      --hover-fill-color: #FFFFFF;\n",
              "      --disabled-bg-color: #3B4455;\n",
              "      --disabled-fill-color: #666;\n",
              "  }\n",
              "\n",
              "  .colab-df-quickchart {\n",
              "    background-color: var(--bg-color);\n",
              "    border: none;\n",
              "    border-radius: 50%;\n",
              "    cursor: pointer;\n",
              "    display: none;\n",
              "    fill: var(--fill-color);\n",
              "    height: 32px;\n",
              "    padding: 0;\n",
              "    width: 32px;\n",
              "  }\n",
              "\n",
              "  .colab-df-quickchart:hover {\n",
              "    background-color: var(--hover-bg-color);\n",
              "    box-shadow: 0 1px 2px rgba(60, 64, 67, 0.3), 0 1px 3px 1px rgba(60, 64, 67, 0.15);\n",
              "    fill: var(--button-hover-fill-color);\n",
              "  }\n",
              "\n",
              "  .colab-df-quickchart-complete:disabled,\n",
              "  .colab-df-quickchart-complete:disabled:hover {\n",
              "    background-color: var(--disabled-bg-color);\n",
              "    fill: var(--disabled-fill-color);\n",
              "    box-shadow: none;\n",
              "  }\n",
              "\n",
              "  .colab-df-spinner {\n",
              "    border: 2px solid var(--fill-color);\n",
              "    border-color: transparent;\n",
              "    border-bottom-color: var(--fill-color);\n",
              "    animation:\n",
              "      spin 1s steps(1) infinite;\n",
              "  }\n",
              "\n",
              "  @keyframes spin {\n",
              "    0% {\n",
              "      border-color: transparent;\n",
              "      border-bottom-color: var(--fill-color);\n",
              "      border-left-color: var(--fill-color);\n",
              "    }\n",
              "    20% {\n",
              "      border-color: transparent;\n",
              "      border-left-color: var(--fill-color);\n",
              "      border-top-color: var(--fill-color);\n",
              "    }\n",
              "    30% {\n",
              "      border-color: transparent;\n",
              "      border-left-color: var(--fill-color);\n",
              "      border-top-color: var(--fill-color);\n",
              "      border-right-color: var(--fill-color);\n",
              "    }\n",
              "    40% {\n",
              "      border-color: transparent;\n",
              "      border-right-color: var(--fill-color);\n",
              "      border-top-color: var(--fill-color);\n",
              "    }\n",
              "    60% {\n",
              "      border-color: transparent;\n",
              "      border-right-color: var(--fill-color);\n",
              "    }\n",
              "    80% {\n",
              "      border-color: transparent;\n",
              "      border-right-color: var(--fill-color);\n",
              "      border-bottom-color: var(--fill-color);\n",
              "    }\n",
              "    90% {\n",
              "      border-color: transparent;\n",
              "      border-bottom-color: var(--fill-color);\n",
              "    }\n",
              "  }\n",
              "</style>\n",
              "\n",
              "  <script>\n",
              "    async function quickchart(key) {\n",
              "      const quickchartButtonEl =\n",
              "        document.querySelector('#' + key + ' button');\n",
              "      quickchartButtonEl.disabled = true;  // To prevent multiple clicks.\n",
              "      quickchartButtonEl.classList.add('colab-df-spinner');\n",
              "      try {\n",
              "        const charts = await google.colab.kernel.invokeFunction(\n",
              "            'suggestCharts', [key], {});\n",
              "      } catch (error) {\n",
              "        console.error('Error during call to suggestCharts:', error);\n",
              "      }\n",
              "      quickchartButtonEl.classList.remove('colab-df-spinner');\n",
              "      quickchartButtonEl.classList.add('colab-df-quickchart-complete');\n",
              "    }\n",
              "    (() => {\n",
              "      let quickchartButtonEl =\n",
              "        document.querySelector('#df-824904fb-2a17-46a4-8075-edc03da9eecd button');\n",
              "      quickchartButtonEl.style.display =\n",
              "        google.colab.kernel.accessAllowed ? 'block' : 'none';\n",
              "    })();\n",
              "  </script>\n",
              "</div>\n",
              "\n",
              "    </div>\n",
              "  </div>\n"
            ],
            "application/vnd.google.colaboratory.intrinsic+json": {
              "type": "dataframe",
              "variable_name": "dframe2",
              "summary": "{\n  \"name\": \"dframe2\",\n  \"rows\": 14999,\n  \"fields\": [\n    {\n      \"column\": \"timestamp\",\n      \"properties\": {\n        \"dtype\": \"number\",\n        \"std\": 86,\n        \"min\": 1360009471,\n        \"max\": 1360009771,\n        \"num_unique_values\": 301,\n        \"samples\": [\n          1360009648,\n          1360009760,\n          1360009699\n        ],\n        \"semantic_type\": \"\",\n        \"description\": \"\"\n      }\n    },\n    {\n      \"column\": \"Mumb\",\n      \"properties\": {\n        \"dtype\": \"number\",\n        \"std\": 5.772073253351934,\n        \"min\": 40.11325539776187,\n        \"max\": 60.54538182752005,\n        \"num_unique_values\": 14999,\n        \"samples\": [\n          51.06422781758853,\n          54.07979961094139,\n          50.70061467100457\n        ],\n        \"semantic_type\": \"\",\n        \"description\": \"\"\n      }\n    },\n    {\n      \"column\": \"Chennai\",\n      \"properties\": {\n        \"dtype\": \"number\",\n        \"std\": 5.789735922295043,\n        \"min\": 40.1295211054004,\n        \"max\": 60.55079586100805,\n        \"num_unique_values\": 14985,\n        \"samples\": [\n          43.65126626490316,\n          53.44267437261157,\n          49.03599442000176\n        ],\n        \"semantic_type\": \"\",\n        \"description\": \"\"\n      }\n    },\n    {\n      \"column\": \"Khar\",\n      \"properties\": {\n        \"dtype\": \"number\",\n        \"std\": 5.760708231036463,\n        \"min\": 40.11157199106936,\n        \"max\": 60.565757099834855,\n        \"num_unique_values\": 14992,\n        \"samples\": [\n          41.18901221684722,\n          51.70732493890029,\n          54.33336801303754\n        ],\n        \"semantic_type\": \"\",\n        \"description\": \"\"\n      }\n    },\n    {\n      \"column\": \"Delh\",\n      \"properties\": {\n        \"dtype\": \"number\",\n        \"std\": 5.815047547680187,\n        \"min\": 40.11912931298677,\n        \"max\": 60.60195771946078,\n        \"num_unique_values\": 14994,\n        \"samples\": [\n          49.915394461476,\n          40.4342706229376,\n          48.47804792316866\n        ],\n        \"semantic_type\": \"\",\n        \"description\": \"\"\n      }\n    }\n  ]\n}"
            }
          },
          "metadata": {},
          "execution_count": 15
        }
      ]
    },
    {
      "cell_type": "code",
      "source": [
        "city_names = dframe2.columns[1:].to_list()\n",
        "print(city_names)"
      ],
      "metadata": {
        "id": "p41pKjJVDoL1",
        "colab": {
          "base_uri": "https://localhost:8080/"
        },
        "outputId": "74140fc9-bf47-4599-c453-b9c7ee1b30a5"
      },
      "execution_count": 16,
      "outputs": [
        {
          "output_type": "stream",
          "name": "stdout",
          "text": [
            "['Mumb', 'Chennai', 'Khar', 'Delh']\n"
          ]
        }
      ]
    },
    {
      "cell_type": "code",
      "source": [
        "# Storing the first and last index for each timestamp and also calculating the prefix sum\n",
        "time_stamps_index = {}\n",
        "for row in range(dframe2.shape[0]):\n",
        "  time_stamp = dframe2.loc[row, 'timestamp']\n",
        "\n",
        "  if time_stamp not in time_stamps_index:\n",
        "    time_stamps_index[time_stamp] = {}\n",
        "    time_stamps_index[time_stamp]['first_index'] = row\n",
        "\n",
        "  time_stamps_index[time_stamp]['last_index'] = row\n",
        "\n",
        "  for city in city_names:\n",
        "    if row > 0:\n",
        "      dframe2.loc[row, city] += dframe2.loc[row-1, city]"
      ],
      "metadata": {
        "id": "KF-x8ETXJhQp"
      },
      "execution_count": 17,
      "outputs": []
    },
    {
      "cell_type": "code",
      "source": [
        "dframe2.head()"
      ],
      "metadata": {
        "colab": {
          "base_uri": "https://localhost:8080/",
          "height": 206
        },
        "id": "8jHUyJFfODv5",
        "outputId": "c2d02415-5273-4e1d-b345-e48756486039"
      },
      "execution_count": 18,
      "outputs": [
        {
          "output_type": "execute_result",
          "data": {
            "text/plain": [
              "    timestamp        Mumb     Chennai        Khar        Delh\n",
              "0  1360009471   44.212887   43.727827   41.208346   55.174262\n",
              "1  1360009471   90.874918  101.119230   81.902626  106.125465\n",
              "2  1360009471  145.134201  146.797432  137.322392  152.539791\n",
              "3  1360009471  198.406050  188.605206  187.578370  194.650009\n",
              "4  1360009471  250.295110  232.086005  243.811087  250.686362"
            ],
            "text/html": [
              "\n",
              "  <div id=\"df-54cf4e0c-33ce-4998-b447-b0ea79203a94\" class=\"colab-df-container\">\n",
              "    <div>\n",
              "<style scoped>\n",
              "    .dataframe tbody tr th:only-of-type {\n",
              "        vertical-align: middle;\n",
              "    }\n",
              "\n",
              "    .dataframe tbody tr th {\n",
              "        vertical-align: top;\n",
              "    }\n",
              "\n",
              "    .dataframe thead th {\n",
              "        text-align: right;\n",
              "    }\n",
              "</style>\n",
              "<table border=\"1\" class=\"dataframe\">\n",
              "  <thead>\n",
              "    <tr style=\"text-align: right;\">\n",
              "      <th></th>\n",
              "      <th>timestamp</th>\n",
              "      <th>Mumb</th>\n",
              "      <th>Chennai</th>\n",
              "      <th>Khar</th>\n",
              "      <th>Delh</th>\n",
              "    </tr>\n",
              "  </thead>\n",
              "  <tbody>\n",
              "    <tr>\n",
              "      <th>0</th>\n",
              "      <td>1360009471</td>\n",
              "      <td>44.212887</td>\n",
              "      <td>43.727827</td>\n",
              "      <td>41.208346</td>\n",
              "      <td>55.174262</td>\n",
              "    </tr>\n",
              "    <tr>\n",
              "      <th>1</th>\n",
              "      <td>1360009471</td>\n",
              "      <td>90.874918</td>\n",
              "      <td>101.119230</td>\n",
              "      <td>81.902626</td>\n",
              "      <td>106.125465</td>\n",
              "    </tr>\n",
              "    <tr>\n",
              "      <th>2</th>\n",
              "      <td>1360009471</td>\n",
              "      <td>145.134201</td>\n",
              "      <td>146.797432</td>\n",
              "      <td>137.322392</td>\n",
              "      <td>152.539791</td>\n",
              "    </tr>\n",
              "    <tr>\n",
              "      <th>3</th>\n",
              "      <td>1360009471</td>\n",
              "      <td>198.406050</td>\n",
              "      <td>188.605206</td>\n",
              "      <td>187.578370</td>\n",
              "      <td>194.650009</td>\n",
              "    </tr>\n",
              "    <tr>\n",
              "      <th>4</th>\n",
              "      <td>1360009471</td>\n",
              "      <td>250.295110</td>\n",
              "      <td>232.086005</td>\n",
              "      <td>243.811087</td>\n",
              "      <td>250.686362</td>\n",
              "    </tr>\n",
              "  </tbody>\n",
              "</table>\n",
              "</div>\n",
              "    <div class=\"colab-df-buttons\">\n",
              "\n",
              "  <div class=\"colab-df-container\">\n",
              "    <button class=\"colab-df-convert\" onclick=\"convertToInteractive('df-54cf4e0c-33ce-4998-b447-b0ea79203a94')\"\n",
              "            title=\"Convert this dataframe to an interactive table.\"\n",
              "            style=\"display:none;\">\n",
              "\n",
              "  <svg xmlns=\"http://www.w3.org/2000/svg\" height=\"24px\" viewBox=\"0 -960 960 960\">\n",
              "    <path d=\"M120-120v-720h720v720H120Zm60-500h600v-160H180v160Zm220 220h160v-160H400v160Zm0 220h160v-160H400v160ZM180-400h160v-160H180v160Zm440 0h160v-160H620v160ZM180-180h160v-160H180v160Zm440 0h160v-160H620v160Z\"/>\n",
              "  </svg>\n",
              "    </button>\n",
              "\n",
              "  <style>\n",
              "    .colab-df-container {\n",
              "      display:flex;\n",
              "      gap: 12px;\n",
              "    }\n",
              "\n",
              "    .colab-df-convert {\n",
              "      background-color: #E8F0FE;\n",
              "      border: none;\n",
              "      border-radius: 50%;\n",
              "      cursor: pointer;\n",
              "      display: none;\n",
              "      fill: #1967D2;\n",
              "      height: 32px;\n",
              "      padding: 0 0 0 0;\n",
              "      width: 32px;\n",
              "    }\n",
              "\n",
              "    .colab-df-convert:hover {\n",
              "      background-color: #E2EBFA;\n",
              "      box-shadow: 0px 1px 2px rgba(60, 64, 67, 0.3), 0px 1px 3px 1px rgba(60, 64, 67, 0.15);\n",
              "      fill: #174EA6;\n",
              "    }\n",
              "\n",
              "    .colab-df-buttons div {\n",
              "      margin-bottom: 4px;\n",
              "    }\n",
              "\n",
              "    [theme=dark] .colab-df-convert {\n",
              "      background-color: #3B4455;\n",
              "      fill: #D2E3FC;\n",
              "    }\n",
              "\n",
              "    [theme=dark] .colab-df-convert:hover {\n",
              "      background-color: #434B5C;\n",
              "      box-shadow: 0px 1px 3px 1px rgba(0, 0, 0, 0.15);\n",
              "      filter: drop-shadow(0px 1px 2px rgba(0, 0, 0, 0.3));\n",
              "      fill: #FFFFFF;\n",
              "    }\n",
              "  </style>\n",
              "\n",
              "    <script>\n",
              "      const buttonEl =\n",
              "        document.querySelector('#df-54cf4e0c-33ce-4998-b447-b0ea79203a94 button.colab-df-convert');\n",
              "      buttonEl.style.display =\n",
              "        google.colab.kernel.accessAllowed ? 'block' : 'none';\n",
              "\n",
              "      async function convertToInteractive(key) {\n",
              "        const element = document.querySelector('#df-54cf4e0c-33ce-4998-b447-b0ea79203a94');\n",
              "        const dataTable =\n",
              "          await google.colab.kernel.invokeFunction('convertToInteractive',\n",
              "                                                    [key], {});\n",
              "        if (!dataTable) return;\n",
              "\n",
              "        const docLinkHtml = 'Like what you see? Visit the ' +\n",
              "          '<a target=\"_blank\" href=https://colab.research.google.com/notebooks/data_table.ipynb>data table notebook</a>'\n",
              "          + ' to learn more about interactive tables.';\n",
              "        element.innerHTML = '';\n",
              "        dataTable['output_type'] = 'display_data';\n",
              "        await google.colab.output.renderOutput(dataTable, element);\n",
              "        const docLink = document.createElement('div');\n",
              "        docLink.innerHTML = docLinkHtml;\n",
              "        element.appendChild(docLink);\n",
              "      }\n",
              "    </script>\n",
              "  </div>\n",
              "\n",
              "\n",
              "<div id=\"df-524f36e3-4199-404a-b46e-de74e5ebcdb0\">\n",
              "  <button class=\"colab-df-quickchart\" onclick=\"quickchart('df-524f36e3-4199-404a-b46e-de74e5ebcdb0')\"\n",
              "            title=\"Suggest charts\"\n",
              "            style=\"display:none;\">\n",
              "\n",
              "<svg xmlns=\"http://www.w3.org/2000/svg\" height=\"24px\"viewBox=\"0 0 24 24\"\n",
              "     width=\"24px\">\n",
              "    <g>\n",
              "        <path d=\"M19 3H5c-1.1 0-2 .9-2 2v14c0 1.1.9 2 2 2h14c1.1 0 2-.9 2-2V5c0-1.1-.9-2-2-2zM9 17H7v-7h2v7zm4 0h-2V7h2v10zm4 0h-2v-4h2v4z\"/>\n",
              "    </g>\n",
              "</svg>\n",
              "  </button>\n",
              "\n",
              "<style>\n",
              "  .colab-df-quickchart {\n",
              "      --bg-color: #E8F0FE;\n",
              "      --fill-color: #1967D2;\n",
              "      --hover-bg-color: #E2EBFA;\n",
              "      --hover-fill-color: #174EA6;\n",
              "      --disabled-fill-color: #AAA;\n",
              "      --disabled-bg-color: #DDD;\n",
              "  }\n",
              "\n",
              "  [theme=dark] .colab-df-quickchart {\n",
              "      --bg-color: #3B4455;\n",
              "      --fill-color: #D2E3FC;\n",
              "      --hover-bg-color: #434B5C;\n",
              "      --hover-fill-color: #FFFFFF;\n",
              "      --disabled-bg-color: #3B4455;\n",
              "      --disabled-fill-color: #666;\n",
              "  }\n",
              "\n",
              "  .colab-df-quickchart {\n",
              "    background-color: var(--bg-color);\n",
              "    border: none;\n",
              "    border-radius: 50%;\n",
              "    cursor: pointer;\n",
              "    display: none;\n",
              "    fill: var(--fill-color);\n",
              "    height: 32px;\n",
              "    padding: 0;\n",
              "    width: 32px;\n",
              "  }\n",
              "\n",
              "  .colab-df-quickchart:hover {\n",
              "    background-color: var(--hover-bg-color);\n",
              "    box-shadow: 0 1px 2px rgba(60, 64, 67, 0.3), 0 1px 3px 1px rgba(60, 64, 67, 0.15);\n",
              "    fill: var(--button-hover-fill-color);\n",
              "  }\n",
              "\n",
              "  .colab-df-quickchart-complete:disabled,\n",
              "  .colab-df-quickchart-complete:disabled:hover {\n",
              "    background-color: var(--disabled-bg-color);\n",
              "    fill: var(--disabled-fill-color);\n",
              "    box-shadow: none;\n",
              "  }\n",
              "\n",
              "  .colab-df-spinner {\n",
              "    border: 2px solid var(--fill-color);\n",
              "    border-color: transparent;\n",
              "    border-bottom-color: var(--fill-color);\n",
              "    animation:\n",
              "      spin 1s steps(1) infinite;\n",
              "  }\n",
              "\n",
              "  @keyframes spin {\n",
              "    0% {\n",
              "      border-color: transparent;\n",
              "      border-bottom-color: var(--fill-color);\n",
              "      border-left-color: var(--fill-color);\n",
              "    }\n",
              "    20% {\n",
              "      border-color: transparent;\n",
              "      border-left-color: var(--fill-color);\n",
              "      border-top-color: var(--fill-color);\n",
              "    }\n",
              "    30% {\n",
              "      border-color: transparent;\n",
              "      border-left-color: var(--fill-color);\n",
              "      border-top-color: var(--fill-color);\n",
              "      border-right-color: var(--fill-color);\n",
              "    }\n",
              "    40% {\n",
              "      border-color: transparent;\n",
              "      border-right-color: var(--fill-color);\n",
              "      border-top-color: var(--fill-color);\n",
              "    }\n",
              "    60% {\n",
              "      border-color: transparent;\n",
              "      border-right-color: var(--fill-color);\n",
              "    }\n",
              "    80% {\n",
              "      border-color: transparent;\n",
              "      border-right-color: var(--fill-color);\n",
              "      border-bottom-color: var(--fill-color);\n",
              "    }\n",
              "    90% {\n",
              "      border-color: transparent;\n",
              "      border-bottom-color: var(--fill-color);\n",
              "    }\n",
              "  }\n",
              "</style>\n",
              "\n",
              "  <script>\n",
              "    async function quickchart(key) {\n",
              "      const quickchartButtonEl =\n",
              "        document.querySelector('#' + key + ' button');\n",
              "      quickchartButtonEl.disabled = true;  // To prevent multiple clicks.\n",
              "      quickchartButtonEl.classList.add('colab-df-spinner');\n",
              "      try {\n",
              "        const charts = await google.colab.kernel.invokeFunction(\n",
              "            'suggestCharts', [key], {});\n",
              "      } catch (error) {\n",
              "        console.error('Error during call to suggestCharts:', error);\n",
              "      }\n",
              "      quickchartButtonEl.classList.remove('colab-df-spinner');\n",
              "      quickchartButtonEl.classList.add('colab-df-quickchart-complete');\n",
              "    }\n",
              "    (() => {\n",
              "      let quickchartButtonEl =\n",
              "        document.querySelector('#df-524f36e3-4199-404a-b46e-de74e5ebcdb0 button');\n",
              "      quickchartButtonEl.style.display =\n",
              "        google.colab.kernel.accessAllowed ? 'block' : 'none';\n",
              "    })();\n",
              "  </script>\n",
              "</div>\n",
              "\n",
              "    </div>\n",
              "  </div>\n"
            ],
            "application/vnd.google.colaboratory.intrinsic+json": {
              "type": "dataframe",
              "variable_name": "dframe2",
              "summary": "{\n  \"name\": \"dframe2\",\n  \"rows\": 14999,\n  \"fields\": [\n    {\n      \"column\": \"timestamp\",\n      \"properties\": {\n        \"dtype\": \"number\",\n        \"std\": 86,\n        \"min\": 1360009471,\n        \"max\": 1360009771,\n        \"num_unique_values\": 301,\n        \"samples\": [\n          1360009648,\n          1360009760,\n          1360009699\n        ],\n        \"semantic_type\": \"\",\n        \"description\": \"\"\n      }\n    },\n    {\n      \"column\": \"Mumb\",\n      \"properties\": {\n        \"dtype\": \"number\",\n        \"std\": 217874.528052955,\n        \"min\": 44.21288665995431,\n        \"max\": 754970.8665543746,\n        \"num_unique_values\": 14999,\n        \"samples\": [\n          339914.56294234266,\n          327310.9669261502,\n          237004.04691793444\n        ],\n        \"semantic_type\": \"\",\n        \"description\": \"\"\n      }\n    },\n    {\n      \"column\": \"Chennai\",\n      \"properties\": {\n        \"dtype\": \"number\",\n        \"std\": 217718.36624157862,\n        \"min\": 43.72782741417714,\n        \"max\": 754158.8090987741,\n        \"num_unique_values\": 14999,\n        \"samples\": [\n          339252.1736737685,\n          326716.8682996526,\n          235895.43350030776\n        ],\n        \"semantic_type\": \"\",\n        \"description\": \"\"\n      }\n    },\n    {\n      \"column\": \"Khar\",\n      \"properties\": {\n        \"dtype\": \"number\",\n        \"std\": 217535.52007748312,\n        \"min\": 41.208346473971325,\n        \"max\": 753770.7084725273,\n        \"num_unique_values\": 14999,\n        \"samples\": [\n          339524.6694986993,\n          326994.9336104942,\n          236625.39606185447\n        ],\n        \"semantic_type\": \"\",\n        \"description\": \"\"\n      }\n    },\n    {\n      \"column\": \"Delh\",\n      \"properties\": {\n        \"dtype\": \"number\",\n        \"std\": 217563.7364775029,\n        \"min\": 55.17426224576408,\n        \"max\": 753593.0568314656,\n        \"num_unique_values\": 14999,\n        \"samples\": [\n          338841.3974218332,\n          326264.6541338679,\n          236155.03723472627\n        ],\n        \"semantic_type\": \"\",\n        \"description\": \"\"\n      }\n    }\n  ]\n}"
            }
          },
          "metadata": {},
          "execution_count": 18
        }
      ]
    },
    {
      "cell_type": "code",
      "source": [
        "dframe2.info()"
      ],
      "metadata": {
        "colab": {
          "base_uri": "https://localhost:8080/"
        },
        "id": "kyRcazzjOFhY",
        "outputId": "73be3fc1-83c0-4696-99e6-895f8c5eca92"
      },
      "execution_count": 19,
      "outputs": [
        {
          "output_type": "stream",
          "name": "stdout",
          "text": [
            "<class 'pandas.core.frame.DataFrame'>\n",
            "RangeIndex: 14999 entries, 0 to 14998\n",
            "Data columns (total 5 columns):\n",
            " #   Column     Non-Null Count  Dtype  \n",
            "---  ------     --------------  -----  \n",
            " 0   timestamp  14999 non-null  int64  \n",
            " 1   Mumb       14999 non-null  float64\n",
            " 2   Chennai    14999 non-null  float64\n",
            " 3   Khar       14999 non-null  float64\n",
            " 4   Delh       14999 non-null  float64\n",
            "dtypes: float64(4), int64(1)\n",
            "memory usage: 586.0 KB\n"
          ]
        }
      ]
    },
    {
      "cell_type": "code",
      "source": [
        "dframe2.shape"
      ],
      "metadata": {
        "colab": {
          "base_uri": "https://localhost:8080/"
        },
        "id": "H-HAU_lvRByP",
        "outputId": "fcee119c-2b3d-49d0-9f42-a16e1e82f39f"
      },
      "execution_count": 20,
      "outputs": [
        {
          "output_type": "execute_result",
          "data": {
            "text/plain": [
              "(14999, 5)"
            ]
          },
          "metadata": {},
          "execution_count": 20
        }
      ]
    },
    {
      "cell_type": "code",
      "source": [
        "def get_stats(city, time_stamp_start, time_stamp_end):\n",
        "  # Edge case if time stamp query out of stored timestamp intervals\n",
        "  if time_stamp_start > dframe2.iloc[-1, 0] or time_stamp_end < dframe2.iloc[0, 0]:\n",
        "      print(\"No data found\")\n",
        "      return\n",
        "\n",
        "  # Trimming the time stamps if it crosses boundaries\n",
        "  if time_stamp_start < dframe2.iloc[0, 0]:\n",
        "    time_stamp_start = dframe2.iloc[0, 0]\n",
        "  if time_stamp_end > dframe2.iloc[-1, 0]:\n",
        "    time_stamp_end = dframe2.iloc[-1, 0]\n",
        "\n",
        "  first_index = time_stamps_index[time_stamp_start]['first_index']\n",
        "  last_index = time_stamps_index[time_stamp_end]['last_index']\n",
        "  sum = 0\n",
        "\n",
        "  # Edge case 2 if the the first index is zero\n",
        "  if first_index == 0:\n",
        "    sum = dframe2.loc[last_index, city]\n",
        "  else:\n",
        "    sum = dframe2.loc[last_index, city] - dframe2.loc[first_index-1, city]\n",
        "\n",
        "  mean = sum / (last_index - first_index + 1)\n",
        "\n",
        "  print(f\"The sum in interval {time_stamp_start} and {time_stamp_end} of {city} is {sum:.2f}\")\n",
        "  print(f\"The mean in interval {time_stamp_start} and {time_stamp_end} of {city} is {mean:.2f}\")\n"
      ],
      "metadata": {
        "id": "LjW9Y18KREqN"
      },
      "execution_count": 21,
      "outputs": []
    },
    {
      "cell_type": "code",
      "source": [
        "get_stats('Mumb', 1360009471, 1360009471)"
      ],
      "metadata": {
        "colab": {
          "base_uri": "https://localhost:8080/"
        },
        "id": "lbHMaS6fcLZV",
        "outputId": "51cc35eb-37ea-439c-a259-b00fa1f23def"
      },
      "execution_count": 22,
      "outputs": [
        {
          "output_type": "stream",
          "name": "stdout",
          "text": [
            "The sum in interval 1360009471 and 1360009471 of Mumb is 1193.44\n",
            "The mean in interval 1360009471 and 1360009471 of Mumb is 49.73\n"
          ]
        }
      ]
    },
    {
      "cell_type": "code",
      "source": [
        "get_stats('Mumb', 1360009475, 1360009477)"
      ],
      "metadata": {
        "colab": {
          "base_uri": "https://localhost:8080/"
        },
        "id": "CuRTLfgqdjEq",
        "outputId": "ed8bb4df-6c24-4a02-e654-3162ace5ec85"
      },
      "execution_count": 23,
      "outputs": [
        {
          "output_type": "stream",
          "name": "stdout",
          "text": [
            "The sum in interval 1360009475 and 1360009477 of Mumb is 7590.71\n",
            "The mean in interval 1360009475 and 1360009477 of Mumb is 50.60\n"
          ]
        }
      ]
    },
    {
      "cell_type": "code",
      "source": [
        "get_stats('Khar', 1360009481, 1360009491)"
      ],
      "metadata": {
        "id": "CoyjObGjdkL_",
        "colab": {
          "base_uri": "https://localhost:8080/"
        },
        "outputId": "e4100b17-bfe0-4a71-9aaf-4e52b3fe4e2f"
      },
      "execution_count": 24,
      "outputs": [
        {
          "output_type": "stream",
          "name": "stdout",
          "text": [
            "The sum in interval 1360009481 and 1360009491 of Khar is 27783.40\n",
            "The mean in interval 1360009481 and 1360009491 of Khar is 50.52\n"
          ]
        }
      ]
    },
    {
      "cell_type": "code",
      "source": [
        "get_stats('Delh', 1360009471, 1360009771)"
      ],
      "metadata": {
        "colab": {
          "base_uri": "https://localhost:8080/"
        },
        "id": "8ksskiLIsERg",
        "outputId": "3a373df6-0314-4e19-ba0b-9c09e8cd70f1"
      },
      "execution_count": 25,
      "outputs": [
        {
          "output_type": "stream",
          "name": "stdout",
          "text": [
            "The sum in interval 1360009471 and 1360009771 of Delh is 753593.06\n",
            "The mean in interval 1360009471 and 1360009771 of Delh is 50.24\n"
          ]
        }
      ]
    },
    {
      "cell_type": "code",
      "source": [],
      "metadata": {
        "id": "qTtnmXU0q5rD"
      },
      "execution_count": 25,
      "outputs": []
    }
  ]
}